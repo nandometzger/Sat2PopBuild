{
 "cells": [
  {
   "cell_type": "code",
   "execution_count": 1,
   "metadata": {},
   "outputs": [
    {
     "ename": "ModuleNotFoundError",
     "evalue": "No module named 'ee'",
     "output_type": "error",
     "traceback": [
      "\u001b[0;31m---------------------------------------------------------------------------\u001b[0m",
      "\u001b[0;31mModuleNotFoundError\u001b[0m                       Traceback (most recent call last)",
      "Cell \u001b[0;32mIn[1], line 1\u001b[0m\n\u001b[0;32m----> 1\u001b[0m \u001b[38;5;28;01mimport\u001b[39;00m \u001b[38;5;21;01mee\u001b[39;00m\n\u001b[1;32m      2\u001b[0m \u001b[38;5;28;01mimport\u001b[39;00m \u001b[38;5;21;01mgeemap\u001b[39;00m\n\u001b[1;32m      3\u001b[0m ee\u001b[38;5;241m.\u001b[39mAuthenticate()\n",
      "\u001b[0;31mModuleNotFoundError\u001b[0m: No module named 'ee'"
     ]
    }
   ],
   "source": [
    "import ee\n",
    "import geemap\n",
    "ee.Authenticate()"
   ]
  },
  {
   "cell_type": "code",
   "execution_count": 2,
   "metadata": {},
   "outputs": [],
   "source": [
    "ee.Initialize()"
   ]
  },
  {
   "cell_type": "code",
   "execution_count": 3,
   "metadata": {},
   "outputs": [],
   "source": [
    "save = False\n",
    "\n",
    "startDate = '2020-01-01' #// window size (in months) for the Sentinel-1 composite\n",
    "endDate = '2020-12-31' #// last day of the composite\n",
    "\n",
    "SENMAU2 = ee.Geometry.Polygon([\n",
    "  [-17.557569245407162,14.521147928653363],\n",
    "  [-16.637464264938412,14.521147928653363],\n",
    "  [-16.637464264938412,14.934208283183736],\n",
    "  [-17.557569245407162,14.934208283183736],\n",
    "  [-17.557569245407162,14.521147928653363]])\n",
    "\n",
    "Area = \"SENMAU2\"\n",
    "\n",
    "if Area==\"SENMAU2\":\n",
    "    exportArea = SENMAU2\n",
    "else:\n",
    "    # other Areas\n",
    "    pass"
   ]
  },
  {
   "cell_type": "markdown",
   "metadata": {},
   "source": [
    "## Open Buildings\n"
   ]
  },
  {
   "cell_type": "code",
   "execution_count": 4,
   "metadata": {},
   "outputs": [],
   "source": [
    "GBuildingMap = geemap.Map()\n",
    "# ///////////////// Google Open Buildings //////////////////////////////////\n",
    "t = ee.FeatureCollection('GOOGLE/Research/open-buildings/v1/polygons')\n",
    "# //var t_060_065 = t.filter('confidence >= 0.60 && confidence < 0.65');\n",
    "# //var t_065_070 = t.filter('confidence >= 0.65 && confidence < 0.70');\n",
    "t_gte_070 = t.filter('confidence >= 0.70')\n",
    "t_filtered = t.filterBounds(exportArea)\n",
    "# print(t_filtered.size());\n",
    "GBuildingMap.addLayer(t, {'color': 'FF0000'}, 'Buildings')\n"
   ]
  },
  {
   "cell_type": "code",
   "execution_count": 5,
   "metadata": {},
   "outputs": [
    {
     "data": {
      "application/vnd.jupyter.widget-view+json": {
       "model_id": "6f80257b800d4d45a48219cfe9cf7056",
       "version_major": 2,
       "version_minor": 0
      },
      "text/plain": [
       "Map(center=[14.728066996095398, -17.097516755172467], controls=(WidgetControl(options=['position', 'transparen…"
      ]
     },
     "metadata": {},
     "output_type": "display_data"
    }
   ],
   "source": [
    "\n",
    "GBuildingtask = ee.batch.Export.table.toDrive(\n",
    "   collection = t_filtered,\n",
    "   description = 'GBuildings-GEE-'+Area,\n",
    "   fileFormat= 'CSV',\n",
    "   folder= \"GEEdownload_bd\"\n",
    ")\n",
    "\n",
    "if save:\n",
    "   GBuildingtask.start()\n",
    "   GBuildingtask.status()\n",
    "\n",
    "GBuildingMap.centerObject(exportArea, 9)\n",
    "GBuildingMap\n"
   ]
  },
  {
   "cell_type": "code",
   "execution_count": 6,
   "metadata": {},
   "outputs": [
    {
     "data": {
      "text/plain": [
       "{'state': 'UNSUBMITTED'}"
      ]
     },
     "execution_count": 6,
     "metadata": {},
     "output_type": "execute_result"
    }
   ],
   "source": [
    "GBuildingtask.status()"
   ]
  },
  {
   "cell_type": "markdown",
   "metadata": {},
   "source": [
    "## Sentinel 2"
   ]
  },
  {
   "cell_type": "code",
   "execution_count": 12,
   "metadata": {},
   "outputs": [],
   "source": [
    "def maskS2clouds(image):\n",
    "    qa = image.select('QA60')\n",
    "\n",
    "    #   // Bits 10 and 11 are clouds and cirrus, respectively.\n",
    "    cloudBitMask = 1 << 10\n",
    "    cirrusBitMask = 1 << 11\n",
    "\n",
    "    #   // Both flags should be set to zero, indicating clear conditions.\n",
    "    mask = qa.bitwiseAnd(cloudBitMask).eq(0).And(qa.bitwiseAnd(cirrusBitMask).eq(0))\n",
    "\n",
    "    #   // Return the masked and scaled data, without the QA bands.\n",
    "    return image.updateMask(mask).divide(10000).select(\"B.*\").copyProperties(image, [\"system:time_start\"])"
   ]
  },
  {
   "cell_type": "code",
   "execution_count": 15,
   "metadata": {},
   "outputs": [
    {
     "data": {
      "application/vnd.jupyter.widget-view+json": {
       "model_id": "c0cc73ec6be444bd9f7f28f0caded077",
       "version_major": 2,
       "version_minor": 0
      },
      "text/plain": [
       "Map(bottom=754.0, center=[14.728066996095398, -17.097516755172467], controls=(WidgetControl(options=['position…"
      ]
     },
     "metadata": {},
     "output_type": "display_data"
    }
   ],
   "source": [
    "# /////////////////// Sentinel 2 - Preprocessed L2A ///////////////////////////////////////////\n",
    "# // Map the function over one year of data and take the median.\n",
    "# // Load Sentinel-2 TOA reflectance data.\n",
    "collection = ee.ImageCollection('COPERNICUS/S2_SR').filterDate(startDate, endDate).filter(ee.Filter.lt('CLOUDY_PIXEL_PERCENTAGE', 20)).map(maskS2clouds)\n",
    "compositeS2 = collection.median()\n",
    "\n",
    "\n",
    "# // Map.addLayer(compositeS2);\n",
    "task = ee.batch.Export.image.toDrive(\n",
    "   image= compositeS2,\n",
    "   description= 'Sentinel-2L2A-'+Area,\n",
    "   scale= 10,\n",
    "   region= exportArea,\n",
    "   maxPixels=80000000000,\n",
    "   folder=\"GEEdownload_bd_L2A\"\n",
    ")\n",
    "if save:\n",
    "   task.start()\n",
    "   task.status()\n",
    "\n",
    "\n",
    "visualization = { 'min': 0.00, 'max': 0.25,  'bands': ['B4', 'B3', 'B2'], }\n",
    "S2Map = geemap.Map()\n",
    "S2Map.addLayer(compositeS2, visualization, 'RGB_L2A')\n",
    "S2Map.centerObject(exportArea, 9)\n",
    "S2Map"
   ]
  },
  {
   "cell_type": "code",
   "execution_count": null,
   "metadata": {},
   "outputs": [],
   "source": [
    "task.status()"
   ]
  },
  {
   "cell_type": "markdown",
   "metadata": {},
   "source": [
    "## Sentinel 1\n"
   ]
  },
  {
   "cell_type": "code",
   "execution_count": null,
   "metadata": {},
   "outputs": [],
   "source": [
    "\n",
    "sentinel1 = ee.ImageCollection('COPERNICUS/S1_GRD').filterDate(startDate, endDate)\n",
    "\n",
    "\n",
    "# // Filter the Sentinel-1 collection by metadata properties.\n",
    "# vvVhIw = sentinel1\n",
    "#   .filter(ee.Filter.listContains('transmitterReceiverPolarisation', 'VV'))\n",
    "#   .filter(ee.Filter.listContains('transmitterReceiverPolarisation', 'VH'))\n",
    "#   .filter(ee.Filter.eq('instrumentMode', 'IW'))\n",
    "#   .filter(ee.Filter.eq('orbitProperties_pass', 'DESCENDING'))\n",
    "#   .filterBounds(exportArea);\n",
    "\n",
    "\n",
    "# TODO!!!!!!!!!!!!\n",
    "S1image = \n",
    "\n",
    "\n",
    "\n",
    "task = ee.batch.Export.image.toDrive(\n",
    "  image= S1image,\n",
    "  description= 'GSentinel-1-'+Area,\n",
    "  scale= 10,\n",
    "  region= exportArea,\n",
    "  maxPixels=80000000000, \n",
    "  folder= \"GEEdownload_bd\"\n",
    ")\n",
    "\n",
    "if save:\n",
    "   task.start()\n",
    "   task.status()\n"
   ]
  },
  {
   "cell_type": "code",
   "execution_count": null,
   "metadata": {},
   "outputs": [],
   "source": [
    "\n",
    "S1Map = geemap.Map()\n",
    "S1Map.addLayer(S1image, {min: [-18, -26, -26], max: [4, 0, 0]}, 'composite')\n",
    "S2Map.centerObject(exportArea, 9)\n",
    "\n",
    "S1Map\n"
   ]
  },
  {
   "cell_type": "code",
   "execution_count": null,
   "metadata": {},
   "outputs": [],
   "source": [
    "task.status()"
   ]
  },
  {
   "cell_type": "markdown",
   "metadata": {},
   "source": [
    "## Nightlights"
   ]
  },
  {
   "cell_type": "code",
   "execution_count": 10,
   "metadata": {},
   "outputs": [
    {
     "data": {
      "application/vnd.jupyter.widget-view+json": {
       "model_id": "9b8a9544574a44a5a9716cde00a3c58f",
       "version_major": 2,
       "version_minor": 0
      },
      "text/plain": [
       "Map(center=[14.728066996095398, -17.097516755172467], controls=(WidgetControl(options=['position', 'transparen…"
      ]
     },
     "metadata": {},
     "output_type": "display_data"
    }
   ],
   "source": [
    "\n",
    "# //////////////////// VIIRS ////////////////////////////////////\n",
    "\n",
    "dataset = ee.ImageCollection('NOAA/VIIRS/DNB/MONTHLY_V1/VCMCFG').filter(ee.Filter.date(startDate, endDate))\n",
    "nighttimeLights = dataset.select('avg_rad')\n",
    "nighttimeLights = nighttimeLights.filterBounds(exportArea).median()\n",
    "  \n",
    "\n",
    "\n",
    "\n",
    "taskVIIRS = ee.batch.Export.image.toDrive(\n",
    "  image= nighttimeLights,\n",
    "  description= 'VIIRS-1-'+Area,\n",
    "  scale= 10,\n",
    "  region= exportArea,\n",
    "  maxPixels=80000000000, \n",
    "  folder= \"GEEdownload_bd\"\n",
    ")\n",
    "\n",
    "\n",
    "\n",
    "MapVIIRS = geemap.Map()\n",
    "nighttimeLightsVis = { 'min': -1.5,  'max': 60.0, }\n",
    "MapVIIRS.addLayer(nighttimeLights, nighttimeLightsVis, 'Nighttime Lights')  \n",
    "MapVIIRS.centerObject(exportArea, 9)\n",
    "MapVIIRS"
   ]
  }
 ],
 "metadata": {
  "kernelspec": {
   "display_name": "Python 3 (ipykernel)",
   "language": "python",
   "name": "python3"
  },
  "language_info": {
   "codemirror_mode": {
    "name": "ipython",
    "version": 3
   },
   "file_extension": ".py",
   "mimetype": "text/x-python",
   "name": "python",
   "nbconvert_exporter": "python",
   "pygments_lexer": "ipython3",
   "version": "3.9.16"
  },
  "vscode": {
   "interpreter": {
    "hash": "c062c4aa2333c16112b75eab3c0348238204c148169a8e878dd0e08036cde14e"
   }
  }
 },
 "nbformat": 4,
 "nbformat_minor": 4
}
